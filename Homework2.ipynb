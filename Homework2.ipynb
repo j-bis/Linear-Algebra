{
 "cells": [
  {
   "attachments": {},
   "cell_type": "markdown",
   "metadata": {},
   "source": [
    "# Name: Edward Tupacz\n",
    "\n",
    "## Due 09/01 23:59\n",
    "\n",
    "Please anwswer the following questions:\n",
    "\n",
    "1.Given a string s=\"UofSC is so beautiful!\":\n",
    "\n",
    "1.1. Use *string slice* to print \"UofSC\""
   ]
  },
  {
   "cell_type": "code",
   "execution_count": 3,
   "metadata": {},
   "outputs": [
    {
     "data": {
      "text/plain": [
       "'UofSC'"
      ]
     },
     "execution_count": 3,
     "metadata": {},
     "output_type": "execute_result"
    }
   ],
   "source": [
    "s=\"UofSC is so beautiful!\"\n",
    "#Your Answer here\n",
    "s[:5]"
   ]
  },
  {
   "cell_type": "markdown",
   "metadata": {},
   "source": [
    "1.2. Use the *string slice* result in 1.1 and *+ operator* to print \"UofSC the great!\"\n",
    "\n",
    "(Please mind the blank space bewtween the words!)"
   ]
  },
  {
   "cell_type": "code",
   "execution_count": 4,
   "metadata": {},
   "outputs": [
    {
     "name": "stdout",
     "output_type": "stream",
     "text": [
      "UofSC the great!\n"
     ]
    }
   ],
   "source": [
    "#Your Answer here\n",
    "print(s[:5]+\" the great!\")"
   ]
  },
  {
   "cell_type": "markdown",
   "metadata": {},
   "source": [
    "2.Given a list L=[1,'2']:\n",
    "\n",
    "2.1 Delete all elements in L, use *Del* to delete one element and use *remove* to delete the other one."
   ]
  },
  {
   "cell_type": "code",
   "execution_count": 7,
   "metadata": {},
   "outputs": [
    {
     "name": "stdout",
     "output_type": "stream",
     "text": [
      "[]\n"
     ]
    }
   ],
   "source": [
    "L=[1,'2']\n",
    "#Your Answer here\n",
    "del L[0]\n",
    "L.remove('2')\n",
    "print(L)\n"
   ]
  },
  {
   "cell_type": "markdown",
   "metadata": {},
   "source": [
    "2.2 Use *append* to add number 8 to the list L;\n",
    "Use *insert* to add string 'Good' to the list L;"
   ]
  },
  {
   "cell_type": "code",
   "execution_count": 9,
   "metadata": {},
   "outputs": [
    {
     "name": "stdout",
     "output_type": "stream",
     "text": [
      "[1, '2', 8, 'Good']\n"
     ]
    }
   ],
   "source": [
    "#Your Answer here\n",
    "\n",
    "L=[1,'2']\n",
    "L.append(8)\n",
    "L.insert(3,\"Good\")\n",
    "print(L)"
   ]
  },
  {
   "cell_type": "markdown",
   "metadata": {},
   "source": [
    "2.3 Transfer string s to list and then add it to list L"
   ]
  },
  {
   "cell_type": "code",
   "execution_count": 11,
   "metadata": {},
   "outputs": [
    {
     "name": "stdout",
     "output_type": "stream",
     "text": [
      "[1, '2', 8, 'Good', ['U', 'o', 'f', 'S', 'C', ' ', 'i', 's', ' ', 's', 'o', ' ', 'b', 'e', 'a', 'u', 't', 'i', 'f', 'u', 'l', '!']]\n"
     ]
    }
   ],
   "source": [
    "#Your Answer here\n",
    "L.append(list(s))\n",
    "print(L)\n",
    "\n"
   ]
  }
 ],
 "metadata": {
  "kernelspec": {
   "display_name": "Python 3",
   "language": "python",
   "name": "python3"
  },
  "language_info": {
   "codemirror_mode": {
    "name": "ipython",
    "version": 3
   },
   "file_extension": ".py",
   "mimetype": "text/x-python",
   "name": "python",
   "nbconvert_exporter": "python",
   "pygments_lexer": "ipython3",
   "version": "3.10.3"
  }
 },
 "nbformat": 4,
 "nbformat_minor": 2
}
