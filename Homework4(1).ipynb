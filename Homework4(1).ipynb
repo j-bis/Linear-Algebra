{
 "cells": [
  {
   "attachments": {},
   "cell_type": "markdown",
   "metadata": {},
   "source": [
    "# Name: Edward Tupacz\n",
    "\n",
    "## Due 09/15 23:59\n",
    "\n",
    "Please anwswer the following questions:\n",
    "\n",
    "1.Define your own function to add one new item to a list:\n",
    "\n",
    "Your inputs should be: a list and the element you want to add\n",
    "\n",
    "Please verify your work with the following testing case:\n",
    "\n",
    "Input: [1,2,3], 4\n",
    "\n",
    "Output: [1,2,3,4]"
   ]
  },
  {
   "cell_type": "code",
   "execution_count": 1,
   "metadata": {},
   "outputs": [
    {
     "name": "stdout",
     "output_type": "stream",
     "text": [
      "[1, 2, 3, 4]\n"
     ]
    }
   ],
   "source": [
    "#Your Answer here\n",
    "a = [1,2,3]\n",
    "def appendToList(a, x):\n",
    "    a.append(x)\n",
    "    return a\n",
    "\n",
    "print(appendToList(a,4))"
   ]
  },
  {
   "cell_type": "markdown",
   "metadata": {},
   "source": [
    "2.Define your own function to evaluate the summation of four inputs:\n",
    "\n",
    "The first three inputs are required and if the last input is not specified/given,\n",
    "\n",
    "set its as 10 as default.\n",
    "\n",
    "Please verify your work with the following testing case:\n",
    "\n",
    "Input1: 1, 2, 3, 4\n",
    "\n",
    "Output1: 10\n",
    "\n",
    "Input2: 1, 2, 3\n",
    "\n",
    "Output2: 16"
   ]
  },
  {
   "cell_type": "code",
   "execution_count": 10,
   "metadata": {},
   "outputs": [
    {
     "name": "stdout",
     "output_type": "stream",
     "text": [
      "10\n",
      "16\n"
     ]
    }
   ],
   "source": [
    "#Your Answer here\n",
    "\n",
    "def summation(a,b,c,d=10):\n",
    "    return a+b+c+d\n",
    "\n",
    "\n",
    "print(summation(1,2,3,4))\n",
    "print(summation(1,2,3))"
   ]
  },
  {
   "cell_type": "code",
   "execution_count": null,
   "metadata": {},
   "outputs": [],
   "source": []
  }
 ],
 "metadata": {
  "kernelspec": {
   "display_name": "Python 3",
   "language": "python",
   "name": "python3"
  },
  "language_info": {
   "codemirror_mode": {
    "name": "ipython",
    "version": 3
   },
   "file_extension": ".py",
   "mimetype": "text/x-python",
   "name": "python",
   "nbconvert_exporter": "python",
   "pygments_lexer": "ipython3",
   "version": "3.10.3"
  }
 },
 "nbformat": 4,
 "nbformat_minor": 2
}
