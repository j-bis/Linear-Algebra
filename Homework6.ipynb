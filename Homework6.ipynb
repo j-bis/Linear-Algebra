{
 "cells": [
  {
   "cell_type": "markdown",
   "metadata": {},
   "source": [
    "# Name: Edward Tupacz\n",
    "\n",
    "## Due 09/29 23:59\n",
    "\n",
    "Please anwswer the following questions:\n",
    "\n",
    "1.Implement matrix multiplication of two ${3} \\times {3}$ **matrix** $A$ and $B$ using **vector multiplication** and **for** iterations:\n",
    "\n",
    "Given $A = \\begin{bmatrix} \n",
    "a_1 \\\\\n",
    "a_2 \\\\\n",
    "a_3\n",
    "\\end{bmatrix}$\n",
    "and \n",
    "$B = \\begin{bmatrix} \n",
    "b_1 & b_2 & b_3 \\\\\n",
    "\\end{bmatrix}$\n",
    "where $a_i \\in {\\mathbb{R}}^{1 \\times 3}$ and $b_i \\in {\\mathbb{R}}^{3 \\times 1}$ $(i=1,2,3)$\n",
    "\n",
    "Recall how we solve the problem during the class, you can use np.dot(a_i, b_j) to evaluate the vector multiplications.\n",
    "And use **for in for** scipts to find the corresponding element index.\n",
    "\n",
    "### Attention!!!\n",
    "### If you use np.dot(A,B) (matrix multiplication of two matrix directly) as your submission in this question, you will get a 0 for homework5 and no resubmission will be accepted! \n",
    "\n",
    "Input: two ${3} \\times {3}$ **matrix** : $A, B$\n",
    "\n",
    "Output: Result of $AB$, a ${3} \\times {3}$ **matrix**"
   ]
  },
  {
   "cell_type": "code",
   "execution_count": 89,
   "metadata": {},
   "outputs": [],
   "source": [
    "import numpy as np\n",
    "#Your Answer here\n",
    "def my_MM_FOR(A, B):\n",
    "    C1 = [0,0,0]\n",
    "    C2 = [0,0,0]\n",
    "    C3 = [0,0,0]\n",
    "    A1 = A[0]\n",
    "    A2 = A[1]\n",
    "    A3 = A[2]\n",
    "    #print(A1)\n",
    "    #print(A2)\n",
    "    #print(A3)\n",
    "    for i in A1:\n",
    "        #print(i)\n",
    "        C1[i-1] = A[0,0]*B[0,i-1]+A[0,1]*B[1,i-1]+A[0,2]*B[2,i-1]\n",
    "    for j in A2:\n",
    "        #print(j)\n",
    "        C2[j-4] = A[1,0]*B[0,j-4]+A[1,1]*B[1,j-4]+A[1,2]*B[2,j-4]\n",
    "    for k in A3:\n",
    "        #print(k)\n",
    "        C3[k-7] = A[2,0]*B[0,k-7]+A[2,1]*B[1,k-7]+A[2,2]*B[2,k-7]\n",
    "    \n",
    "    return np.array([[C1,C2,C3]])\n",
    "        "
   ]
  },
  {
   "cell_type": "markdown",
   "metadata": {},
   "source": [
    "2.Verify your implementation with numpy build in function np.dot with the example I give\n",
    "\n",
    "You just need to run the cell below."
   ]
  },
  {
   "cell_type": "code",
   "execution_count": 90,
   "metadata": {},
   "outputs": [
    {
     "name": "stdout",
     "output_type": "stream",
     "text": [
      "[[[ 14  32  50]\n",
      "  [ 32  77 122]\n",
      "  [ 50 122 194]]]\n",
      "[[ 14  32  50]\n",
      " [ 32  77 122]\n",
      " [ 50 122 194]]\n"
     ]
    }
   ],
   "source": [
    "#Your Answer here\n",
    "A = [[1,2,3],[4,5,6],[7,8,9]]\n",
    "B = [[1,4,7],[2,5,8],[3,6,9]]\n",
    "A = np.array(A)\n",
    "B = np.array(B)\n",
    "print(my_MM_FOR(A,B))\n",
    "print(np.dot(A,B))"
   ]
  },
  {
   "cell_type": "code",
   "execution_count": null,
   "metadata": {},
   "outputs": [],
   "source": []
  },
  {
   "cell_type": "code",
   "execution_count": null,
   "metadata": {},
   "outputs": [],
   "source": []
  }
 ],
 "metadata": {
  "kernelspec": {
   "display_name": "Python 3 (ipykernel)",
   "language": "python",
   "name": "python3"
  },
  "language_info": {
   "codemirror_mode": {
    "name": "ipython",
    "version": 3
   },
   "file_extension": ".py",
   "mimetype": "text/x-python",
   "name": "python",
   "nbconvert_exporter": "python",
   "pygments_lexer": "ipython3",
   "version": "3.9.12"
  }
 },
 "nbformat": 4,
 "nbformat_minor": 2
}
