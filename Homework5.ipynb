{
 "cells": [
  {
   "cell_type": "markdown",
   "metadata": {},
   "source": [
    "# Name: Edward Tupacz\n",
    "\n",
    "## Due 09/22 23:59\n",
    "\n",
    "Please anwswer the following questions:\n",
    "\n",
    "1.Implement matrix multiplication of two ${3} \\times {3}$ **matrix** $A$ and $B$ using **vector multiplication**:\n",
    "\n",
    "Given $A = \\begin{bmatrix} \n",
    "a_1 \\\\\n",
    "a_2 \\\\\n",
    "a_3\n",
    "\\end{bmatrix}$\n",
    "and \n",
    "$B = \\begin{bmatrix} \n",
    "b_1 & b_2 & b_3 \\\\\n",
    "\\end{bmatrix}$\n",
    "where $a_i \\in {\\mathbb{R}}^{1 \\times 3}$ and $b_i \\in {\\mathbb{R}}^{3 \\times 1}$ $(i=1,2,3)$\n",
    "\n",
    "Recall how we solve the problem during the class, you can use np.dot(a_i, b_j) to evaluate the vector multiplications.\n",
    "\n",
    "### Attention!!!\n",
    "### If you use np.dot(A,B) (matrix multiplication of two matrix directly) as your submission in this question, you will get a 0 for homework5 and no resubmission will be accepted! \n",
    "\n",
    "Input: two ${3} \\times {3}$ **matrix** : $A, B$\n",
    "\n",
    "Output: Result of $AB$, a ${3} \\times {3}$ **matrix**"
   ]
  },
  {
   "cell_type": "code",
   "execution_count": 1,
   "metadata": {},
   "outputs": [],
   "source": [
    "import numpy as np\n",
    "#Your Answer here\n",
    "def my_MM(A, B):\n",
    "    c00=A[0,0]*B[0,0]+A[0,1]*B[1,0]+A[0,2]*B[2,0]\n",
    "    c01=A[0,0]*B[0,1]+A[0,1]*B[1,1]+A[0,2]*B[2,1]\n",
    "    c02=A[0,0]*B[0,2]+A[0,1]*B[1,2]+A[0,2]*B[2,2]\n",
    "    c10=A[1,0]*B[0,0]+A[1,1]*B[1,0]+A[1,2]*B[2,0]\n",
    "    c11=A[1,0]*B[0,1]+A[1,1]*B[1,1]+A[1,2]*B[2,1]\n",
    "    c12=A[1,0]*B[0,2]+A[1,1]*B[1,2]+A[1,2]*B[2,2]\n",
    "    c20=A[2,0]*B[0,0]+A[2,1]*B[1,0]+A[2,2]*B[2,0]\n",
    "    c21=A[2,0]*B[0,1]+A[2,1]*B[1,1]+A[2,2]*B[2,1]\n",
    "    c22=A[2,0]*B[0,2]+A[2,1]*B[1,2]+A[2,2]*B[2,2]\n",
    "    return np.array([[c00,c01,c02],[c10,c11,c12],[c20,c21,c22]])"
   ]
  },
  {
   "cell_type": "markdown",
   "metadata": {},
   "source": [
    "2.Verify your implementation with numpy build in function np.dot with the example I give\n",
    "\n",
    "You just need to run the cell below."
   ]
  },
  {
   "cell_type": "code",
   "execution_count": 2,
   "metadata": {},
   "outputs": [
    {
     "name": "stdout",
     "output_type": "stream",
     "text": [
      "[[ 14  32  50]\n",
      " [ 32  77 122]\n",
      " [ 50 122 194]]\n",
      "[[ 14  32  50]\n",
      " [ 32  77 122]\n",
      " [ 50 122 194]]\n"
     ]
    }
   ],
   "source": [
    "#Your Answer here\n",
    "A = [[1,2,3],[4,5,6],[7,8,9]]\n",
    "B = [[1,4,7],[2,5,8],[3,6,9]]\n",
    "A = np.array(A)\n",
    "B = np.array(B)\n",
    "print(my_MM(A,B))\n",
    "print(np.dot(A,B))"
   ]
  },
  {
   "cell_type": "code",
   "execution_count": null,
   "metadata": {},
   "outputs": [],
   "source": []
  }
 ],
 "metadata": {
  "kernelspec": {
   "display_name": "Python 3 (ipykernel)",
   "language": "python",
   "name": "python3"
  },
  "language_info": {
   "codemirror_mode": {
    "name": "ipython",
    "version": 3
   },
   "file_extension": ".py",
   "mimetype": "text/x-python",
   "name": "python",
   "nbconvert_exporter": "python",
   "pygments_lexer": "ipython3",
   "version": "3.9.12"
  }
 },
 "nbformat": 4,
 "nbformat_minor": 4
}
