{
 "cells": [
  {
   "cell_type": "markdown",
   "metadata": {},
   "source": [
    "# Name: Edward Tupacz\n",
    "\n",
    "## Due 11/03 23:59\n",
    "\n",
    "Please anwswer the following questions:\n",
    "\n",
    "1.Using eig function to find the eigenvalues and eigenvectors of given matrix $A$:\n",
    "\n",
    "$A = \\begin{bmatrix} \n",
    "3 & 2 & -1 \\\\\n",
    "-2 & -2 & 2 \\\\\n",
    "3 & 6 & -1\n",
    "\\end{bmatrix}$"
   ]
  },
  {
   "cell_type": "code",
   "execution_count": 60,
   "metadata": {
    "scrolled": true
   },
   "outputs": [
    {
     "name": "stdout",
     "output_type": "stream",
     "text": [
      "Eigenvalues and Eigenvectors of A:\n",
      "(array([ 2., -4.,  2.]), array([[ 0.88900089,  0.26726124,  0.16539955],\n",
      "       [-0.25400025, -0.53452248,  0.37365187],\n",
      "       [ 0.38100038,  0.80178373,  0.91270328]]))\n"
     ]
    }
   ],
   "source": [
    "#Your Answer here\n",
    "import numpy as np\n",
    "from numpy import linalg as LA\n",
    "\n",
    "A = np.array([[3,2,-1],[-2,-2,2],[3,6,-1]])\n",
    "print(\"Eigenvalues and Eigenvectors of A:\")\n",
    "print(LA.eig(A))"
   ]
  },
  {
   "cell_type": "markdown",
   "metadata": {},
   "source": [
    "2.Choose **one** eigenvalue and eigenvector, verify the result satisfies the equation $(A-\\lambda I)x=0$"
   ]
  },
  {
   "cell_type": "code",
   "execution_count": 61,
   "metadata": {
    "scrolled": false
   },
   "outputs": [
    {
     "name": "stdout",
     "output_type": "stream",
     "text": [
      "Using first eigenvalue and eigenvector,\n",
      "result is very small and can be rounded to 0.\n",
      "[ 1.11022302e-16 -2.22044605e-16 -2.22044605e-16]\n"
     ]
    }
   ],
   "source": [
    "#Your Answer here\n",
    "I = np.identity(3)\n",
    "eig = LA.eigvals(A)\n",
    "eigvs = LA.eig(A)[1]\n",
    "\n",
    "print(\"Using first eigenvalue and eigenvector,\")\n",
    "print(\"result is very small and can be rounded to 0.\")\n",
    "print((A - eig[1] * I) @ eigvs[:,1])\n"
   ]
  },
  {
   "cell_type": "markdown",
   "metadata": {},
   "source": [
    "3.Use **another** eigenvalue and eigenvector to verify the result satisfies the equation $(A-\\lambda I)x=0$ using **Mathematical Language**. \n",
    "(Please show me what is the $\\lambda$ and $x$ you choose, what is the result of $A-\\lambda I$ and $(A-\\lambda I)x$, you can consider this question as the practice for your final course project. Prepare the Answer md cell yourself.)"
   ]
  },
  {
   "cell_type": "markdown",
   "metadata": {},
   "source": [
    "## Method\n",
    "\n",
    "In order to get an eigenvalue, use the determinant formula set to 0.\n",
    "\n",
    "$ 0 = det\\begin{bmatrix} \n",
    "3 & 2 & -1 \\\\\n",
    "-2 & -2 & 2 \\\\\n",
    "3 & 6 & -1\n",
    "\\end{bmatrix}$\n",
    "\n",
    "Then, subtract $(\\lambda)$ along the main diagonal.\n",
    "\n",
    "$ 0 = det\\begin{bmatrix} \n",
    "3-\\lambda & 2 & -1 \\\\\n",
    "-2 & -2-\\lambda & 2 \\\\\n",
    "3 & 6 & -1-\\lambda\n",
    "\\end{bmatrix}$\n",
    "\n",
    "Simplify the determinant.\n",
    "\n",
    "$(-\\lambda^3 + 12\\lambda - 16 = 0)$  \n",
    "\n",
    "Solve the equation to get eigenvalues of 2, 2, and -4.\n",
    "Take one of the 2s. To get the eigenvector of 2, we take the 2 and replace the $(\\lambda)$s in the original matrix with it.\n",
    "\n",
    "$\\begin{bmatrix} \n",
    "3-(2) & 2 & -1 \\\\\n",
    "-2 & -2-(2) & 2 \\\\\n",
    "3 & 6 & -1-(2)\n",
    "\\end{bmatrix}$\n",
    "\n",
    "Simplify.\n",
    "\n",
    "$\\begin{bmatrix} \n",
    "1 & 2 & -1 \\\\\n",
    "-2 & 4 & 2 \\\\\n",
    "3 & 6 & -3\n",
    "\\end{bmatrix}$\n",
    "\n",
    "After this, we have 3 separate equations to work with:\n",
    "\n",
    "X + 2Y -Z = 0\n",
    "-2X + 4Y + 2Z = 0\n",
    "3X + 6Y + -3Z = 0\n",
    "\n",
    "Simplifying this, we get \n",
    "\n",
    "X = -3/4\n",
    "Y = 3/8\n",
    "Z = 0\n",
    "\n",
    "We then scale these values to \n",
    "\n",
    "X = -2\n",
    "Y = 1\n",
    "Z = 0\n",
    "\n",
    "These values are the eigenvector of the eigenvalue 2 (one of them, at least).\n",
    "\n",
    "$\\begin{bmatrix} \n",
    "-2 \\\\\n",
    "1 \\\\\n",
    "0\n",
    "\\end{bmatrix}$\n",
    "\n",
    "We can prove this by taking the original matrix and subtracting it by the identity matrix times the eigenvalue, multiplied by rows to the eigenvector.\n",
    "\n",
    "$( \\begin{bmatrix} \n",
    "3 & 2 & -1 \\\\\n",
    "-2 & -2 & 2 \\\\\n",
    "3 & 6 & -1\n",
    "\\end{bmatrix}$ - $\\begin{bmatrix} \n",
    "2 & 0 & 0 \\\\\n",
    "0 & 2 & 0 \\\\\n",
    "0 & 0 & 2\n",
    "\\end{bmatrix} )$ * $\\begin{bmatrix} \n",
    "-2 \\\\\n",
    "1 \\\\\n",
    "0\n",
    "\\end{bmatrix}$\n",
    "\n",
    "Now we have the matrix we were using to find the eigenvector of 2.\n",
    "\n",
    "$( \\begin{bmatrix} \n",
    "1 & 2 & -1 \\\\\n",
    "-2 & -4 & 2 \\\\\n",
    "3 & 6 & -3\n",
    "\\end{bmatrix}$ * $\\begin{bmatrix} \n",
    "-2 \\\\\n",
    "1 \\\\\n",
    "0\n",
    "\\end{bmatrix}$ =\n",
    "(please note that the final vector is being cut off in the pdf conversion)\n",
    "Multiplying the matrix with the eigenvector will result in the zero vector.\n",
    "$\\begin{bmatrix} \n",
    "0\\\\\n",
    "0 \\\\\n",
    "0\n",
    "\\end{bmatrix}$\n",
    "\n",
    "\n",
    "\n",
    "\n",
    "\n",
    "\n",
    "\n"
   ]
  },
  {
   "cell_type": "code",
   "execution_count": null,
   "metadata": {},
   "outputs": [],
   "source": []
  }
 ],
 "metadata": {
  "kernelspec": {
   "display_name": "Python 3 (ipykernel)",
   "language": "python",
   "name": "python3"
  },
  "language_info": {
   "codemirror_mode": {
    "name": "ipython",
    "version": 3
   },
   "file_extension": ".py",
   "mimetype": "text/x-python",
   "name": "python",
   "nbconvert_exporter": "python",
   "pygments_lexer": "ipython3",
   "version": "3.9.12"
  },
  "vscode": {
   "interpreter": {
    "hash": "dc5016114c6108d7c4d155e6521bd1cd719b162779ec0dae97d4e8f7cb7a9bc0"
   }
  }
 },
 "nbformat": 4,
 "nbformat_minor": 2
}
