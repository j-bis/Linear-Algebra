{
 "cells": [
  {
   "cell_type": "markdown",
   "metadata": {},
   "source": [
    "# Name: Edward Tupacz\n",
    "\n",
    "## Due 12/02 15:00\n"
   ]
  },
  {
   "cell_type": "markdown",
   "metadata": {},
   "source": [
    "# Markov Chains: Clicking Circles"
   ]
  },
  {
   "attachments": {
    "diagram.png": {
     "image/png": "[encoded data removed]"
    }
   },
   "cell_type": "markdown",
   "metadata": {},
   "source": [
    "## Introduction\n",
    "\n",
    "In the video game *osu!*, the player must click on circles in succession to the rhythm of a song. To relate this to a Markov chain, let the chance a player clicks on a circle be 90%. Let the chance the player clicks the next circle after missing one be 50%, and let the chance a player also clicks on the first circle be 90%. This relationship can be shown in the following diagram:![diagram.png](attachment:diagram.png)\n"
   ]
  },
  {
   "cell_type": "markdown",
   "metadata": {},
   "source": [
    "# Method\n",
    "\n",
    "To find the chances of clicking a circle k times in a row, we can display the relationship as an equation:\n",
    "\n",
    "For the first circle, we have an initial state vector:\n",
    "\n",
    "$click_{1} = .9$\n",
    "\n",
    "$miss_{1} = .1$\n",
    "\n",
    "For the second circle:\n",
    "\n",
    "$c_{2} = .9c_{1} + .5m_{1} = .9 * .9 + .5 * .1 = .86$\n",
    "\n",
    "$m_{2} = .1c_{1} + .5m_{1} = .1 * .9 + .5 * .1 = .14$\n",
    "\n",
    "To generalize this, the equation can be expressed as:\n",
    "\n",
    "$c_{k+1} = .9c_{k} + .5m_{k}$\n",
    "\n",
    "$m_{k+1} = .1c_{k} + .5m_{k}$\n",
    "\n",
    "This can then be expressed in matrices as:\n",
    "\n",
    "$\\begin{bmatrix} \n",
    "c_{k+1} \\\\\n",
    "m_{k+1}\n",
    "\\end{bmatrix}\n",
    " = \n",
    "\\begin{bmatrix} \n",
    ".9 & .5\\\\\n",
    ".1 & .5\n",
    "\\end{bmatrix}\n",
    " * \n",
    "\\begin{bmatrix} \n",
    "c_{k} \\\\\n",
    "m_{k}\n",
    "\\end{bmatrix}$\n",
    "\n",
    "To find the probabilities of the next circle, we then multiply the matrix with the vector that was made after calculating the probabilities for the second circle. To get the probabilities for the third circle, for example:\n",
    "\n",
    "$\\begin{bmatrix} \n",
    "c_{3} \\\\\n",
    "m_{3}\n",
    "\\end{bmatrix}\n",
    " = \n",
    "\\begin{bmatrix}\n",
    ".9 & .5\\\\\n",
    ".1 & .5\n",
    "\\end{bmatrix}\n",
    " * \n",
    "\\begin{bmatrix} \n",
    "c_{2} \\\\\n",
    "m_{2}\n",
    "\\end{bmatrix}\n",
    " = \n",
    "\\begin{bmatrix}\n",
    ".9 * .86 + .5 * .14\\\\\n",
    ".1 * .86 + .5 * .14\n",
    "\\end{bmatrix}\n",
    " = \n",
    "\\begin{bmatrix}\n",
    ".844\\\\\n",
    ".156\n",
    "\\end{bmatrix}\n",
    "$\n",
    "\n",
    "."
   ]
  },
  {
   "cell_type": "markdown",
   "metadata": {},
   "source": [
    "## Implementations\n"
   ]
  },
  {
   "cell_type": "code",
   "execution_count": 1,
   "metadata": {},
   "outputs": [
    {
     "name": "stdout",
     "output_type": "stream",
     "text": [
      "How many circles do you want to click in succession? 3\n",
      "The probability you will click 3 circles in succession are:\n"
     ]
    },
    {
     "data": {
      "text/plain": [
       "0.8440000000000001"
      ]
     },
     "execution_count": 1,
     "metadata": {},
     "output_type": "execute_result"
    }
   ],
   "source": [
    "#Write your code in this cell\n",
    "import numpy as np\n",
    "A1 = np.array([.9,.1]) #first circle chance\n",
    "Ak = np.array([[.9,.5],[.1,.5]]) #k array chance\n",
    "An = np.array([.9,.1]) #chance after input n, starting at 1\n",
    "def findChance(input = input(\"How many circles do you want to click in succession? \")):\n",
    "    print(\"The probability you will click\",input,\"circles in succession are:\")\n",
    "    for x in range(int(input)-1):\n",
    "        An = Ak @ A1\n",
    "        A1[0] = An[0]\n",
    "        A1[1] = An[1]\n",
    "    return A1[0]\n",
    "\n",
    "findChance()\n"
   ]
  },
  {
   "cell_type": "markdown",
   "metadata": {},
   "source": [
    "## Results\n",
    "\n",
    "With an input of 1, we get the inital chance to click, .9.\n",
    "\n",
    "With an input of 2, we get the chance to click 2 circles in succession, .86.\n",
    "\n",
    "With an input of 3, we get the chance to click 3 circles in succession, .844.\n"
   ]
  },
  {
   "cell_type": "markdown",
   "metadata": {},
   "source": [
    "## Conclusion\n",
    "\n",
    "In game, the chance to click the next circle will fluctuate greatly from one circle to the next. In this scenario, however, we are given the high chance of 90% of clicking the next one, leading to a very high chance of clicking the next circle, even after many inputs. However, when playing an easy song in game, this model can accurately reflect a player's chances of clicking all the circles in succession. "
   ]
  }
 ],
 "metadata": {
  "kernelspec": {
   "display_name": "Python 3 (ipykernel)",
   "language": "python",
   "name": "python3"
  },
  "language_info": {
   "codemirror_mode": {
    "name": "ipython",
    "version": 3
   },
   "file_extension": ".py",
   "mimetype": "text/x-python",
   "name": "python",
   "nbconvert_exporter": "python",
   "pygments_lexer": "ipython3",
   "version": "3.9.12"
  }
 },
 "nbformat": 4,
 "nbformat_minor": 2
}
